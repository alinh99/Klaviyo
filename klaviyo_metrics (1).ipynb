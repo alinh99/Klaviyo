{
 "cells": [
  {
   "cell_type": "code",
   "execution_count": null,
   "id": "69558753-7907-4922-b7cf-27b7046ec51f",
   "metadata": {},
   "outputs": [],
   "source": [
    "!python -m pip install --upgrade pip\n"
   ]
  },
  {
   "cell_type": "code",
   "execution_count": null,
   "id": "6ebc398f-54ca-48a0-b60d-23b4f1fb4657",
   "metadata": {},
   "outputs": [],
   "source": [
    "!pip install google-cloud-bigquery"
   ]
  },
  {
   "cell_type": "code",
   "execution_count": null,
   "id": "8455e16a-da68-41ff-bc86-031a0c05cf42",
   "metadata": {},
   "outputs": [],
   "source": [
    "from google.cloud import bigquery"
   ]
  },
  {
   "cell_type": "code",
   "execution_count": null,
   "id": "faf9ecfa-16a1-42e2-b737-c7d619a643ca",
   "metadata": {},
   "outputs": [],
   "source": [
    "!pip install google-cloud-bigquery requests"
   ]
  },
  {
   "cell_type": "code",
   "execution_count": null,
   "id": "cb924e92-a8eb-40d3-8f50-b0cd046f6800",
   "metadata": {},
   "outputs": [],
   "source": [
    "import requests\n",
    "from google.cloud import bigquery\n",
    "from datetime import datetime "
   ]
  },
  {
   "cell_type": "code",
   "execution_count": null,
   "id": "68f47672-04ec-40e4-8881-4eb7288affdf",
   "metadata": {},
   "outputs": [],
   "source": [
    "# Klaviyo API Key\n",
    "klaviyo_api_key = \"pk_d219e6b5bb77294a18f95f94002b34e9be\""
   ]
  },
  {
   "cell_type": "code",
   "execution_count": null,
   "id": "4e104d51-4e5d-4e7a-9f10-f1d4a5643742",
   "metadata": {},
   "outputs": [],
   "source": [
    "# Klaviyo API URL\n",
    "klaviyo_url = \"https://a.klaviyo.com/api\""
   ]
  },
  {
   "cell_type": "code",
   "execution_count": null,
   "id": "882d66fb-0b08-48cc-bc02-5d8bf40f6418",
   "metadata": {},
   "outputs": [],
   "source": [
    "response = requests.get(f\"{klaviyo_url}/v1/metrics/timeline?api_key={klaviyo_api_key}&metric=active_subscribers\").json()\n",
    "\n",
    "# Extracting the count value\n",
    "subscriber_count = response['count']\n",
    "print(f\"Subscriber Count: {subscriber_count}\")\n",
    "\n",
    "\n",
    "# If you want to print the entire response for debugging\n",
    "print(response)\n",
    "\n",
    "subscriber_count = response['count']\n",
    "timestamp = datetime.utcfromtimestamp(response['data'][0]['timestamp']).strftime('%Y-%m-%d %H:%M:%S')\n",
    "print(timestamp)\n",
    "\n",
    "\n",
    "\n"
   ]
  },
  {
   "cell_type": "code",
   "execution_count": null,
   "id": "3d53632c-42a7-4dac-99ce-ee5e2bb83910",
   "metadata": {},
   "outputs": [],
   "source": [
    "import requests\n",
    "from datetime import datetime, timezone\n",
    "\n",
    "\n",
    "# Making the HTTP GET request\n",
    "response = requests.get(f\"{klaviyo_url}/v1/metrics/timeline?api_key={klaviyo_api_key}&metric=active_subscribers\").json()\n",
    "\n",
    "# Extracting the count value\n",
    "subscriber_count = response['count']\n",
    "print(f\"Subscriber Count: {subscriber_count}\")\n",
    "\n",
    "# If you want to print the entire response for debugging\n",
    "print(response)\n",
    "\n",
    "# Assuming 'conversion_count' is the metric for the number of conversions\n",
    "conversion_count = response['data'][0].get('conversion_count', 0)\n",
    "print(conversion_count)\n",
    "\n",
    "# Extracting the timestamp\n",
    "timestamp = datetime.utcfromtimestamp(response['data'][0]['timestamp']).strftime('%Y-%m-%d %H:%M:%S')\n",
    "print(f\"Timestamp: {timestamp}\")\n",
    "\n",
    "# Calculating conversion rate\n",
    "conversion_rate = (conversion_count / subscriber_count) * 100 if subscriber_count != 0 else 0\n",
    "print(f\"Conversion Rate: {conversion_rate:.2f}%\")\n"
   ]
  },
  {
   "cell_type": "code",
   "execution_count": null,
   "id": "fad023d2-9bde-462b-8056-5ace0a043fe9",
   "metadata": {},
   "outputs": [],
   "source": [
    "import requests\n",
    "from datetime import datetime, timezone\n",
    "\n",
    "\n",
    "# Making the HTTP GET request\n",
    "response = requests.get(f\"{klaviyo_url}/v1/metrics/timeline?api_key={klaviyo_api_key}&metric=open_rate\").json()\n",
    "\n",
    "# Extracting the count value\n",
    "print(response)"
   ]
  },
  {
   "cell_type": "code",
   "execution_count": null,
   "id": "b35bb0cb-dd39-4a77-96d5-b6019703928a",
   "metadata": {},
   "outputs": [],
   "source": [
    "# subscriber_count = requests.get(f\"{klaviyo_url}/v1/metrics/timeline?count=50&api_key={klaviyo_api_key}&metric=active_subscribers\") ok\n",
    "# open_rate = requests.get(f\"{klaviyo_url}/v1/metrics/timeline?count=50&api_key={klaviyo_api_key}&metric=open_rate\") ok\n",
    "# click_rate = requests.get(f\"{klaviyo_url}/v1/metrics/timeline?count=50&api_key={klaviyo_api_key}&metric=click_rate\") ok\n",
    "# conversion_rate = requests.get(f\"{klaviyo_url}/v1/metrics/timeline?count=50&api_key={klaviyo_api_key}&metric=conversion_rate\") ok\n",
    "# revenue_per_email = requests.get(f\"{klaviyo_url}/v1/metrics/timeline?count=50&api_key={klaviyo_api_key}&metric=revenue_per_email\") ok\n",
    "# new_subscribers = requests.get(f\"{klaviyo_url}/v1/metrics/timeline?count=50&api_key={klaviyo_api_key}&metric=new_subscribers\") \n",
    "# unsubscribe_rate = requests.get(f\"{klaviyo_url}/v1/metrics/timeline?count=50&api_key={klaviyo_api_key}&metric=unsubscribe_rate\") ok\n",
    "# delivery_rate = requests.get(f\"{klaviyo_url}/v1/metrics/timeline?count=50&api_key={klaviyo_api_key}&metric=delivery_rate\") ok\n",
    "# bounce_rate = requests.get(f\"{klaviyo_url}/v1/metrics/timeline?count=50&api_key={klaviyo_api_key}&metric=bounce_rate\") ok\n",
    "# clv = requests.get(f\"{klaviyo_url}/v1/metrics/timeline?count=50&api_key={klaviyo_api_key}&metric=clv\") #\n",
    "# product_purchase_rate = requests.get(f\"{klaviyo_url}/v1/metrics/timeline?count=50&api_key={klaviyo_api_key}&metric=product_purchase_rate\") ok\n",
    "# average_order_value = requests.get(f\"{klaviyo_url}/v1/metrics/timeline?count=50&api_key={klaviyo_api_key}&metric=average_order_value\") ok"
   ]
  },
  {
   "cell_type": "code",
   "execution_count": null,
   "id": "a3978b0c",
   "metadata": {},
   "outputs": [],
   "source": [
    "statistics = requests.get(\n",
    "    f\"{klaviyo_url}/v1/metrics/timeline?count=50&api_key={klaviyo_api_key}\"\n",
    ")\n",
    "# statistics.json()"
   ]
  },
  {
   "cell_type": "code",
   "execution_count": null,
   "id": "0c8200cd",
   "metadata": {},
   "outputs": [],
   "source": [
    "statistics_data = statistics.json()[\"data\"]\n",
    "# reports = []\n",
    "for stat in statistics_data:\n",
    "    metric_id = stat[\"statistic_id\"]\n",
    "    reports_url = f\"https://a.klaviyo.com/api/v1/metric/{metric_id}/timeline?api_key={klaviyo_api_key}\"\n",
    "    headers = {\"accept\": \"application/json\"}\n",
    "    reports_response = requests.get(reports_url, headers=headers)\n",
    "    print(reports_response.json()['data'])\n",
    "# reports"
   ]
  }
 ],
 "metadata": {
  "kernelspec": {
   "display_name": "Python 3 (ipykernel)",
   "language": "python",
   "name": "python3"
  },
  "language_info": {
   "codemirror_mode": {
    "name": "ipython",
    "version": 3
   },
   "file_extension": ".py",
   "mimetype": "text/x-python",
   "name": "python",
   "nbconvert_exporter": "python",
   "pygments_lexer": "ipython3",
   "version": "3.10.13"
  }
 },
 "nbformat": 4,
 "nbformat_minor": 5
}
